{
 "cells": [
  {
   "cell_type": "code",
   "execution_count": null,
   "id": "e4333f22-3280-4ce5-8d23-8a0c4234e612",
   "metadata": {
    "tags": []
   },
   "outputs": [],
   "source": [
    "! pip uninstall  opencv-python"
   ]
  },
  {
   "cell_type": "code",
   "execution_count": 12,
   "id": "2bc5d663-f5d4-40b8-8efd-d7a870a7a1a3",
   "metadata": {
    "tags": []
   },
   "outputs": [
    {
     "name": "stdout",
     "output_type": "stream",
     "text": [
      "Package                      Version\n",
      "---------------------------- ---------\n",
      "absl-py                      1.4.0\n",
      "aiofiles                     22.1.0\n",
      "aiosqlite                    0.18.0\n",
      "albumentations               1.3.1\n",
      "anyio                        3.5.0\n",
      "argon2-cffi                  21.3.0\n",
      "argon2-cffi-bindings         21.2.0\n",
      "asttokens                    2.0.5\n",
      "astunparse                   1.6.3\n",
      "attrs                        22.1.0\n",
      "Babel                        2.11.0\n",
      "backcall                     0.2.0\n",
      "beautifulsoup4               4.12.2\n",
      "bleach                       4.1.0\n",
      "brotlipy                     0.7.0\n",
      "cachetools                   5.3.1\n",
      "certifi                      2023.7.22\n",
      "cffi                         1.15.1\n",
      "chardet                      5.2.0\n",
      "charset-normalizer           2.0.4\n",
      "colorama                     0.4.6\n",
      "coloredlogs                  15.0.1\n",
      "comm                         0.1.2\n",
      "contourpy                    1.1.0\n",
      "cryptography                 41.0.2\n",
      "cycler                       0.11.0\n",
      "debugpy                      1.6.7\n",
      "decorator                    5.1.1\n",
      "defusedxml                   0.7.1\n",
      "entrypoints                  0.4\n",
      "executing                    0.8.3\n",
      "fastjsonschema               2.16.2\n",
      "filelock                     3.12.2\n",
      "flatbuffers                  23.5.26\n",
      "fonttools                    4.42.1\n",
      "gast                         0.4.0\n",
      "gdown                        4.7.1\n",
      "google-auth                  2.22.0\n",
      "google-auth-oauthlib         0.4.6\n",
      "google-pasta                 0.2.0\n",
      "grpcio                       1.57.0\n",
      "h5py                         3.9.0\n",
      "humanfriendly                10.0\n",
      "idna                         3.4\n",
      "imageio                      2.31.1\n",
      "imgviz                       1.7.4\n",
      "ipykernel                    6.25.0\n",
      "ipython                      8.12.2\n",
      "ipython-genutils             0.2.0\n",
      "jedi                         0.18.1\n",
      "Jinja2                       3.1.2\n",
      "joblib                       1.3.2\n",
      "json5                        0.9.6\n",
      "jsonschema                   4.17.3\n",
      "jupyter_client               7.4.9\n",
      "jupyter_core                 5.3.0\n",
      "jupyter-events               0.6.3\n",
      "jupyter-server               1.23.4\n",
      "jupyter_server_fileid        0.9.0\n",
      "jupyter_server_ydoc          0.8.0\n",
      "jupyter-ydoc                 0.2.4\n",
      "jupyterlab                   3.6.3\n",
      "jupyterlab-pygments          0.1.2\n",
      "jupyterlab_server            2.22.0\n",
      "keras                        2.10.0\n",
      "Keras-Preprocessing          1.1.2\n",
      "kiwisolver                   1.4.4\n",
      "labelme                      5.3.0\n",
      "lazy_loader                  0.3\n",
      "libclang                     16.0.6\n",
      "lxml                         4.9.2\n",
      "Markdown                     3.4.4\n",
      "MarkupSafe                   2.1.1\n",
      "matplotlib                   3.7.2\n",
      "matplotlib-inline            0.1.6\n",
      "mistune                      0.8.4\n",
      "mpmath                       1.3.0\n",
      "natsort                      8.4.0\n",
      "nbclassic                    0.5.5\n",
      "nbclient                     0.5.13\n",
      "nbconvert                    6.5.4\n",
      "nbformat                     5.7.0\n",
      "nest-asyncio                 1.5.6\n",
      "networkx                     3.1\n",
      "notebook                     6.5.4\n",
      "notebook_shim                0.2.2\n",
      "numpy                        1.25.2\n",
      "oauthlib                     3.2.2\n",
      "onnxruntime                  1.15.1\n",
      "opencv-python                4.7.0.72\n",
      "opencv-python-headless       4.8.0.76\n",
      "opt-einsum                   3.3.0\n",
      "packaging                    23.0\n",
      "pandocfilters                1.5.0\n",
      "parso                        0.8.3\n",
      "pickleshare                  0.7.5\n",
      "Pillow                       10.0.0\n",
      "pip                          23.2.1\n",
      "platformdirs                 3.10.0\n",
      "prometheus-client            0.14.1\n",
      "prompt-toolkit               3.0.36\n",
      "protobuf                     3.19.6\n",
      "psutil                       5.9.0\n",
      "pure-eval                    0.2.2\n",
      "pyasn1                       0.5.0\n",
      "pyasn1-modules               0.3.0\n",
      "pycparser                    2.21\n",
      "Pygments                     2.15.1\n",
      "pyOpenSSL                    23.2.0\n",
      "pyparsing                    3.0.9\n",
      "PyQt5                        5.15.9\n",
      "PyQt5-Qt5                    5.15.2\n",
      "PyQt5-sip                    12.12.2\n",
      "pyreadline3                  3.4.1\n",
      "pyrsistent                   0.18.0\n",
      "PySocks                      1.7.1\n",
      "python-dateutil              2.8.2\n",
      "python-json-logger           2.0.7\n",
      "pytz                         2022.7\n",
      "PyWavelets                   1.4.1\n",
      "pywin32                      305.1\n",
      "pywinpty                     2.0.10\n",
      "PyYAML                       6.0\n",
      "pyzmq                        23.2.0\n",
      "QtPy                         2.3.1\n",
      "qudida                       0.0.4\n",
      "requests                     2.31.0\n",
      "requests-oauthlib            1.3.1\n",
      "rfc3339-validator            0.1.4\n",
      "rfc3986-validator            0.1.1\n",
      "rsa                          4.9\n",
      "scikit-image                 0.21.0\n",
      "scikit-learn                 1.3.0\n",
      "scipy                        1.11.2\n",
      "Send2Trash                   1.8.0\n",
      "setuptools                   68.0.0\n",
      "six                          1.16.0\n",
      "sniffio                      1.2.0\n",
      "soupsieve                    2.4\n",
      "stack-data                   0.2.0\n",
      "sympy                        1.12\n",
      "tensorboard                  2.10.1\n",
      "tensorboard-data-server      0.6.1\n",
      "tensorboard-plugin-wit       1.8.1\n",
      "tensorflow                   2.10.0\n",
      "tensorflow-estimator         2.10.0\n",
      "tensorflow-io-gcs-filesystem 0.31.0\n",
      "termcolor                    2.3.0\n",
      "terminado                    0.17.1\n",
      "threadpoolctl                3.2.0\n",
      "tifffile                     2023.8.12\n",
      "tinycss2                     1.2.1\n",
      "tomli                        2.0.1\n",
      "tornado                      6.3.2\n",
      "tqdm                         4.66.1\n",
      "traitlets                    5.7.1\n",
      "typing_extensions            4.7.1\n",
      "urllib3                      1.26.16\n",
      "wcwidth                      0.2.5\n",
      "webencodings                 0.5.1\n",
      "websocket-client             0.58.0\n",
      "Werkzeug                     2.3.7\n",
      "wheel                        0.38.4\n",
      "win-inet-pton                1.1.0\n",
      "wrapt                        1.15.0\n",
      "y-py                         0.5.9\n",
      "ypy-websocket                0.8.2\n"
     ]
    }
   ],
   "source": [
    "!pip list"
   ]
  },
  {
   "cell_type": "code",
   "execution_count": 3,
   "id": "ac134de9-f40e-42ab-b8f7-73809da82b17",
   "metadata": {
    "tags": []
   },
   "outputs": [],
   "source": [
    "import os\n",
    "import time\n",
    "import uuid\n",
    "import cv2"
   ]
  },
  {
   "cell_type": "code",
   "execution_count": 3,
   "id": "a972e7e5-b4a8-4f4e-be84-1ac7a4e358f0",
   "metadata": {
    "tags": []
   },
   "outputs": [],
   "source": [
    "IMAGE_PATH = os.path.join(\"data\", \"images\")\n",
    "IMAGES_NUMBER = 40"
   ]
  },
  {
   "cell_type": "code",
   "execution_count": null,
   "id": "9828f52a-aa1f-496c-9eb3-3401be57c7b9",
   "metadata": {
    "tags": []
   },
   "outputs": [],
   "source": [
    "#taking image samples \n",
    "cap = cv2.VideoCapture(0)\n",
    "\n",
    "for imgnum in range(IMAGES_NUMBER):\n",
    "    ret, frame = cap.read()\n",
    "    print(f\"capturing img {imgnum}\")\n",
    "    image_name = os.path.join(IMAGE_PATH, f'{str(uuid.uuid1())}.jpg')\n",
    "    cv2.imwrite(image_name, frame)\n",
    "    cv2.imshow(\"frame\", frame)\n",
    "    time.sleep(1)\n",
    "    \n",
    "    if cv2.waitKey(1) & 0xFF == ord('q'):\n",
    "        break\n",
    "\n",
    "cap.release()\n",
    "cv2.destroyAllWindows()\n"
   ]
  },
  {
   "cell_type": "code",
   "execution_count": 4,
   "id": "18d17e4c-b407-4bdf-8130-bb7ff81be458",
   "metadata": {
    "tags": []
   },
   "outputs": [],
   "source": [
    "import tensorflow as tf\n",
    "import json\n",
    "import numpy as np\n",
    "from matplotlib import pyplot as plt"
   ]
  },
  {
   "cell_type": "code",
   "execution_count": 3,
   "id": "819a50eb-b035-43e6-b5c5-04b9c22c93f2",
   "metadata": {
    "tags": []
   },
   "outputs": [],
   "source": [
    "gpus = tf.config.list_physical_devices('GPU')\n",
    "for gpu in gpus:\n",
    "    tf.config.experimental.set_memory_growth(gpu,True)"
   ]
  },
  {
   "cell_type": "code",
   "execution_count": 8,
   "id": "56e791b2-86a8-446e-b31c-ab850d9b0538",
   "metadata": {
    "tags": []
   },
   "outputs": [],
   "source": [
    "# create a TensorFlow dataset containing the paths to all .jpg files in the data\\\\images\\\\ directory, without shuffling their order.\n",
    "images = tf.data.Dataset.list_files(\"data\\\\images\\\\*.jpg\", shuffle=False)"
   ]
  },
  {
   "cell_type": "code",
   "execution_count": null,
   "id": "de99ade7-750d-488d-99ae-3f93deccebed",
   "metadata": {
    "tags": []
   },
   "outputs": [],
   "source": [
    "images.as_numpy_iterator().next()"
   ]
  },
  {
   "cell_type": "code",
   "execution_count": 16,
   "id": "2cf1099a-352e-44e6-8de7-e5be4036e7cf",
   "metadata": {
    "tags": []
   },
   "outputs": [],
   "source": [
    "# Define a function to load an image from a file path.\n",
    "# This function takes a string 'x' which represents the path to a JPEG image file.\n",
    "def load_image(x):\n",
    "    # Read the image file as a byte string.\n",
    "    byte_img = tf.io.read_file(x)\n",
    "    # Decode the byte string to get the actual image data in a tensor format.\n",
    "    img = tf.io.decode_jpeg(byte_img)\n",
    "    # Return the decoded image tensor.\n",
    "    return img\n",
    "\n",
    "# Use the 'map' function to apply 'load_image' to each element of the 'images' dataset.\n",
    "# This will load all images into memory, converting their file paths to actual image data.\n",
    "# images = images.map(load_image)\n"
   ]
  },
  {
   "cell_type": "code",
   "execution_count": 11,
   "id": "59b532ae-c94b-429c-ade0-0c08c2e1a5e4",
   "metadata": {
    "tags": []
   },
   "outputs": [],
   "source": [
    "# Create batches of 4 images and transform the dataset to a NumPy iterator.\n",
    "# This allows you to loop through the dataset and obtain batches as NumPy arrays.\n",
    "image_generator = images.batch(4).as_numpy_iterator()\n"
   ]
  },
  {
   "cell_type": "code",
   "execution_count": null,
   "id": "de65bfd3-c3b2-45b8-a7b3-703778e1c8e9",
   "metadata": {
    "tags": []
   },
   "outputs": [],
   "source": [
    "plot_images = image_generator.next()\n",
    "fig, ax = plt.subplots(ncols=4, figsize= (10,10))\n",
    "for idx, img in enumerate(plot_images):\n",
    "    ax[idx].imshow(img)\n",
    "plt.show()"
   ]
  },
  {
   "cell_type": "markdown",
   "id": "3bbc6234-4643-47db-88e3-a28d1710f4d7",
   "metadata": {},
   "source": [
    "## Move the Matching Labels"
   ]
  },
  {
   "cell_type": "code",
   "execution_count": 13,
   "id": "2d258a70-be8c-43b9-871f-b4bb71fc30a6",
   "metadata": {
    "tags": []
   },
   "outputs": [],
   "source": [
    "for folder in ['train','test','val']:\n",
    "    for file in os.listdir(os.path.join('data', folder, 'images')):\n",
    "        \n",
    "        filename = file.split('.')[0]+'.json'\n",
    "        existing_filepath = os.path.join('data','labels', filename)\n",
    "        if os.path.exists(existing_filepath): \n",
    "            new_filepath = os.path.join('data',folder,'labels',filename)\n",
    "            os.replace(existing_filepath, new_filepath)  "
   ]
  },
  {
   "cell_type": "code",
   "execution_count": 14,
   "id": "51c8a521-3fb1-4023-841f-f6c66c367f04",
   "metadata": {
    "tags": []
   },
   "outputs": [],
   "source": [
    "# Import the 'albumentations' library for image augmentation.\n",
    "import albumentations as alb\n",
    "\n",
    "# Define an image augmentation pipeline using 'alb.Compose'.\n",
    "# This pipeline includes various augmentation techniques like RandomCrop, HorizontalFlip, etc.\n",
    "augmentor = alb.Compose([\n",
    "    alb.RandomCrop(width=450, height=450),          # Randomly crop the image to 450x450 pixels.\n",
    "    alb.HorizontalFlip(p=0.5),                      # Flip the image horizontally with a 50% chance.\n",
    "    alb.RandomBrightnessContrast(p=0.2),            # Apply random brightness and contrast adjustments with a 20% chance.\n",
    "    alb.RandomGamma(p=0.2),                         # Apply a random gamma correction with a 20% chance.\n",
    "    alb.RGBShift(p=0.2),                            # Randomly shift the RGB channels of the image with a 20% chance.\n",
    "    alb.VerticalFlip(p=0.5)                         # Flip the image vertically with a 50% chance.\n",
    "], \n",
    "bbox_params=alb.BboxParams(format='albumentations',  # Specify the bounding box format.\n",
    "                           label_fields=['class_labels'])  # Specify the label fields for bounding boxes.\n",
    ")\n"
   ]
  },
  {
   "cell_type": "markdown",
   "id": "224e51c7-636b-4dee-a0c8-a72379ed3f4f",
   "metadata": {
    "tags": []
   },
   "source": [
    "###  Load a Test Image and Annotation with OpenCV and JSON"
   ]
  },
  {
   "cell_type": "code",
   "execution_count": 68,
   "id": "c2d3c520-57b0-41c0-924d-dea2c971917c",
   "metadata": {
    "tags": []
   },
   "outputs": [],
   "source": [
    "img = cv2.imread(os.path.join('data','train', 'images','0f2c31e2-40fe-11ee-90e5-283a4d5c1f6a.jpg'))\n",
    "with open(os.path.join('data', 'train', 'labels', '0f2c31e2-40fe-11ee-90e5-283a4d5c1f6a.json'), 'r') as f:\n",
    "    label = json.load(f)\n"
   ]
  },
  {
   "cell_type": "code",
   "execution_count": 20,
   "id": "de10b962-036a-4b72-a1f5-7a86d7132c00",
   "metadata": {
    "tags": []
   },
   "outputs": [
    {
     "data": {
      "text/plain": [
       "[[287.02127659574467, 128.82978723404258],\n",
       " [155.63829787234044, 295.3191489361702]]"
      ]
     },
     "execution_count": 20,
     "metadata": {},
     "output_type": "execute_result"
    }
   ],
   "source": [
    "label['shapes'][0]['points']"
   ]
  },
  {
   "cell_type": "code",
   "execution_count": 21,
   "id": "82cbd35c-791c-494c-af19-897729cc297b",
   "metadata": {
    "tags": []
   },
   "outputs": [
    {
     "data": {
      "text/plain": [
       "[0.24318484042553196,\n",
       " 0.26839539007092206,\n",
       " 0.448470744680851,\n",
       " 0.6152482269503546]"
      ]
     },
     "execution_count": 21,
     "metadata": {},
     "output_type": "execute_result"
    }
   ],
   "source": [
    "coords = [0,0,0,0]\n",
    "coords[2] = label['shapes'][0]['points'][0][0]\n",
    "coords[1] = label['shapes'][0]['points'][0][1]\n",
    "coords[0] = label['shapes'][0]['points'][1][0]\n",
    "coords[3] = label['shapes'][0]['points'][1][1]\n",
    "coords = list(np.divide(coords, [640,480,640,480]))\n",
    "coords"
   ]
  },
  {
   "cell_type": "code",
   "execution_count": null,
   "id": "b8ff00a0-d3de-4679-8bbc-e7189a436a80",
   "metadata": {
    "tags": []
   },
   "outputs": [],
   "source": [
    "augmented = augmentor(image=img, bboxes=[coords], class_labels=['face'])\n",
    "augmented"
   ]
  },
  {
   "cell_type": "code",
   "execution_count": null,
   "id": "ec356bf4-ee4c-4e7c-85e5-7536d25823e8",
   "metadata": {
    "tags": []
   },
   "outputs": [],
   "source": [
    "# Draw a rectangle around the bounding box in the augmented image using OpenCV's 'rectangle' function.\n",
    "cv2.rectangle(augmented['image'], \n",
    "              tuple(np.multiply(augmented['bboxes'][0][:2], [450,450]).astype(int)),  # Top-left corner coordinates\n",
    "              tuple(np.multiply(augmented['bboxes'][0][2:], [450,450]).astype(int)),  # Bottom-right corner coordinates\n",
    "              (255,0,0),  # Rectangle color (Red)\n",
    "              2)  # Rectangle line thickness\n",
    "plt.imshow(augmented['image'])"
   ]
  },
  {
   "cell_type": "markdown",
   "id": "af1d6787-6d2b-4ec6-943f-701c9dbfda4c",
   "metadata": {},
   "source": [
    "## Run Augmentation Pipeline"
   ]
  },
  {
   "cell_type": "code",
   "execution_count": null,
   "id": "f2db5245-19a6-47a1-98c2-a830e0ae3beb",
   "metadata": {
    "tags": []
   },
   "outputs": [],
   "source": [
    "for partition in ['train','test','val']: \n",
    "    for image in os.listdir(os.path.join('data', partition, 'images')):\n",
    "        img = cv2.imread(os.path.join('data', partition, 'images', image))\n",
    "\n",
    "        coords = [0,0,0.00001,0.00001]\n",
    "        label_path = os.path.join('data', partition, 'labels', f'{image.split(\".\")[0]}.json')\n",
    "        if os.path.exists(label_path):\n",
    "            print(label_path, ' exists')\n",
    "            with open(label_path, 'r') as f:\n",
    "                label = json.load(f)\n",
    "\n",
    "            coords[2] = label['shapes'][0]['points'][0][0]\n",
    "            coords[1] = label['shapes'][0]['points'][0][1]\n",
    "            coords[0] = label['shapes'][0]['points'][1][0]\n",
    "            coords[3] = label['shapes'][0]['points'][1][1]\n",
    "            coords = list(np.divide(coords, [640,480,640,480]))\n",
    "\n",
    "        try: \n",
    "            for x in range(60):\n",
    "                augmented = augmentor(image=img, bboxes=[coords], class_labels=['face'])\n",
    "                cv2.imwrite(os.path.join('aug_data', partition, 'images', f'{image.split(\".\")[0]}.{x}.jpg'), augmented['image'])\n",
    "\n",
    "                annotation = {}\n",
    "                annotation['image'] = image\n",
    "\n",
    "                if os.path.exists(label_path):\n",
    "                    if len(augmented['bboxes']) == 0: \n",
    "                        annotation['bbox'] = [0,0,0,0]\n",
    "                        annotation['class'] = 0 \n",
    "                    else: \n",
    "                        annotation['bbox'] = augmented['bboxes'][0]\n",
    "                        annotation['class'] = 1\n",
    "                else: \n",
    "                    annotation['bbox'] = [0,0,0,0]\n",
    "                    annotation['class'] = 0 \n",
    "\n",
    "\n",
    "                # Open a JSON file in write mode to save annotation data.\n",
    "                # The file is located in a directory structure defined by 'aug_data', the partition (train, val, test), and 'labels'.\n",
    "                # The filename is generated based on the image name and a variable 'x'.\n",
    "                with open(os.path.join('aug_data', partition, 'labels', f'{image.split(\".\")[0]}.{x}.json'), 'w') as f:\n",
    "                    json.dump(annotation, f)  # Save the 'annotation' dictionary to the JSON file.\n",
    "\n",
    "\n",
    "        except Exception as e:\n",
    "            print(e)"
   ]
  },
  {
   "cell_type": "code",
   "execution_count": 17,
   "id": "2510a461-cd54-490f-b1ba-f5febc6e5e3d",
   "metadata": {
    "tags": []
   },
   "outputs": [],
   "source": [
    "# List all the JPEG files in the 'aug_data/train/images' directory and create a TensorFlow dataset.\n",
    "train_images = tf.data.Dataset.list_files('aug_data\\\\train\\\\images\\\\*.jpg', shuffle=False)\n",
    "# Map the 'load_image' function onto the dataset to read the actual image files.\n",
    "train_images = train_images.map(load_image)\n",
    "# Resize all images in the dataset to 120x120 pixels.\n",
    "train_images = train_images.map(lambda x: tf.image.resize(x, (120,120)))\n",
    "# Normalize the pixel values of all images to fall in the range [0, 1].\n",
    "train_images = train_images.map(lambda x: x/255)\n",
    "\n",
    "# same thing for test and validation\n",
    "test_images = tf.data.Dataset.list_files('aug_data\\\\test\\\\images\\\\*.jpg', shuffle=False)\n",
    "test_images = test_images.map(load_image)\n",
    "test_images = test_images.map(lambda x: tf.image.resize(x, (120,120)))\n",
    "test_images = test_images.map(lambda x: x/255)\n",
    "\n",
    "val_images = tf.data.Dataset.list_files('aug_data\\\\val\\\\images\\\\*.jpg', shuffle=False)\n",
    "val_images = val_images.map(load_image)\n",
    "val_images = val_images.map(lambda x: tf.image.resize(x, (120,120)))\n",
    "val_images = val_images.map(lambda x: x/255)"
   ]
  },
  {
   "cell_type": "code",
   "execution_count": 70,
   "id": "18ec402d-99d4-4351-8e9b-e0ec27391955",
   "metadata": {
    "tags": []
   },
   "outputs": [
    {
     "data": {
      "text/plain": [
       "(120, 120, 3)"
      ]
     },
     "execution_count": 70,
     "metadata": {},
     "output_type": "execute_result"
    }
   ],
   "source": [
    "train_images.as_numpy_iterator().next().shape"
   ]
  },
  {
   "cell_type": "code",
   "execution_count": null,
   "id": "500d8bb0-b0e0-4ce7-b316-7fdb6d16e031",
   "metadata": {
    "tags": []
   },
   "outputs": [],
   "source": [
    "# Create an iterator to extract images\n",
    "train_images_iter = iter(train_images)\n",
    "\n",
    "# Extract the first 5 images\n",
    "num_images_to_plot = 5\n",
    "images_to_plot = []\n",
    "for _ in range(num_images_to_plot):\n",
    "    image = next(train_images_iter)\n",
    "    images_to_plot.append(image)\n",
    "\n",
    "# Plot the images\n",
    "plt.figure(figsize=(10,8))\n",
    "for i, image in enumerate(images_to_plot):\n",
    "    plt.subplot(1, num_images_to_plot, i+1)\n",
    "    plt.imshow(image)\n",
    "    plt.axis('off')\n",
    "\n",
    "plt.show()"
   ]
  },
  {
   "cell_type": "code",
   "execution_count": 19,
   "id": "66076f52-ab25-496c-97b1-b5d0d03fa098",
   "metadata": {
    "tags": []
   },
   "outputs": [],
   "source": [
    "def load_labels(label_path):\n",
    "    with open(label_path.numpy(), 'r', encoding = \"utf-8\") as f:\n",
    "        label = json.load(f)\n",
    "        \n",
    "    return [label['class']], label['bbox']"
   ]
  },
  {
   "cell_type": "code",
   "execution_count": 20,
   "id": "d9768c35-1173-4b0c-bba5-093964703f71",
   "metadata": {
    "tags": []
   },
   "outputs": [],
   "source": [
    "# List all JSON files in the 'aug_data/train/labels' directory and create a TensorFlow dataset.\n",
    "train_labels = tf.data.Dataset.list_files('aug_data\\\\train\\\\labels\\\\*.json', shuffle=False)\n",
    "# Map the 'load_labels' function onto the dataset to read the actual JSON label files.\n",
    "# Use tf.py_function to call a custom Python function ('load_labels') that returns tensors of type tf.uint8 and tf.float16.\n",
    "train_labels = train_labels.map(lambda x: tf.py_function(load_labels, [x], [tf.uint8, tf.float16]))\n",
    "\n",
    "test_labels = tf.data.Dataset.list_files('aug_data\\\\test\\\\labels\\\\*.json', shuffle=False)\n",
    "test_labels = test_labels.map(lambda x: tf.py_function(load_labels, [x], [tf.uint8, tf.float16]))\n",
    "\n",
    "val_labels = tf.data.Dataset.list_files('aug_data\\\\val\\\\labels\\\\*.json', shuffle=False)\n",
    "val_labels = val_labels.map(lambda x: tf.py_function(load_labels, [x], [tf.uint8, tf.float16]))"
   ]
  },
  {
   "cell_type": "code",
   "execution_count": 21,
   "id": "367ed15d-78e9-4151-b103-68dfc6b07a03",
   "metadata": {
    "tags": []
   },
   "outputs": [
    {
     "data": {
      "text/plain": [
       "(array([1], dtype=uint8),\n",
       " array([0.5757, 0.2396, 0.8677, 0.6094], dtype=float16))"
      ]
     },
     "execution_count": 21,
     "metadata": {},
     "output_type": "execute_result"
    }
   ],
   "source": [
    "train_labels.as_numpy_iterator().next()"
   ]
  },
  {
   "cell_type": "markdown",
   "id": "1ae50228-5376-4f8c-a304-cbf150654979",
   "metadata": {},
   "source": [
    "## Combine Label and Image Samples"
   ]
  },
  {
   "cell_type": "code",
   "execution_count": 33,
   "id": "2f86ffe7-06b7-4375-ac1f-37d9e01d341e",
   "metadata": {
    "tags": []
   },
   "outputs": [
    {
     "data": {
      "text/plain": [
       "(3600, 3600, 780, 780, 840, 840)"
      ]
     },
     "execution_count": 33,
     "metadata": {},
     "output_type": "execute_result"
    }
   ],
   "source": [
    "len(train_images), len(train_labels), len(test_images), len(test_labels), len(val_images), len(val_labels)\n"
   ]
  },
  {
   "cell_type": "code",
   "execution_count": 22,
   "id": "bbf524e0-bf22-42e6-9f6e-60c0dfa32790",
   "metadata": {
    "tags": []
   },
   "outputs": [],
   "source": [
    "# Zip the train_images and train_labels datasets into a single dataset.\n",
    "train = tf.data.Dataset.zip((train_images, train_labels))\n",
    "# Shuffle the dataset with a buffer size of 5000.\n",
    "train = train.shuffle(5000)\n",
    "# Batch the dataset into groups of 8.\n",
    "train = train.batch(8)\n",
    "# Prefetch up to 4 batches to improve performance.\n",
    "train = train.prefetch(4)\n",
    "\n",
    "\n",
    "test = tf.data.Dataset.zip((test_images, test_labels))\n",
    "test = test.shuffle(1300)\n",
    "test = test.batch(8)\n",
    "test = test.prefetch(4)\n",
    "\n",
    "val = tf.data.Dataset.zip((val_images, val_labels))\n",
    "val = val.shuffle(1000)\n",
    "val = val.batch(8)\n",
    "val = val.prefetch(4)"
   ]
  },
  {
   "cell_type": "code",
   "execution_count": 24,
   "id": "f19ed114-f28a-4b1b-968b-6ab338b85474",
   "metadata": {
    "tags": []
   },
   "outputs": [],
   "source": [
    "t = train.as_numpy_iterator()"
   ]
  },
  {
   "cell_type": "code",
   "execution_count": 28,
   "id": "15cba573-c203-4869-a731-3de7d7d23b99",
   "metadata": {
    "tags": []
   },
   "outputs": [
    {
     "data": {
      "text/plain": [
       "((8, 120, 120, 3),\n",
       " (array([[1],\n",
       "         [1],\n",
       "         [1],\n",
       "         [1],\n",
       "         [1],\n",
       "         [1],\n",
       "         [1],\n",
       "         [1]], dtype=uint8),\n",
       "  array([[0.794 , 0.274 , 1.    , 0.687 ],\n",
       "         [0.9536, 0.879 , 1.    , 1.    ],\n",
       "         [0.4993, 0.3945, 0.738 , 0.789 ],\n",
       "         [0.3176, 0.509 , 0.535 , 0.8115],\n",
       "         [0.6206, 0.0713, 0.9834, 0.5015],\n",
       "         [0.2203, 0.3186, 0.4731, 0.647 ],\n",
       "         [0.2654, 0.4294, 0.5015, 0.79  ],\n",
       "         [0.7007, 0.1155, 0.878 , 0.3555]], dtype=float16)))"
      ]
     },
     "execution_count": 28,
     "metadata": {},
     "output_type": "execute_result"
    }
   ],
   "source": [
    "t.next()[0].shape , t.next()[1]"
   ]
  },
  {
   "cell_type": "markdown",
   "id": "b5ae0a6c-f3b2-4bcc-aba3-ddcbd0b9fd18",
   "metadata": {},
   "source": [
    "## View Images and Annotations"
   ]
  },
  {
   "cell_type": "code",
   "execution_count": 30,
   "id": "c734fa7d-eed9-4cc4-bef6-f321842d550a",
   "metadata": {
    "tags": []
   },
   "outputs": [],
   "source": [
    "data_samples = train.as_numpy_iterator()\n",
    "res = data_samples.next()\n"
   ]
  },
  {
   "cell_type": "code",
   "execution_count": null,
   "id": "0bd8527a-0942-48eb-a801-7f4971039cce",
   "metadata": {
    "tags": []
   },
   "outputs": [],
   "source": [
    "fig, ax = plt.subplots(ncols=4, figsize=(20,20))\n",
    "for idx in range(4): \n",
    "    sample_image = res[0][idx]\n",
    "    sample_coords = res[1][1][idx]\n",
    "    \n",
    "    cv2.rectangle(sample_image, \n",
    "                  tuple(np.multiply(sample_coords[:2], [120,120]).astype(int)),\n",
    "                  tuple(np.multiply(sample_coords[2:], [120,120]).astype(int)), \n",
    "                        (255,0,0), 1)\n",
    "\n",
    "    ax[idx].imshow(sample_image)"
   ]
  },
  {
   "cell_type": "markdown",
   "id": "d1d216b8-14ce-4841-aceb-99ec6e04df4f",
   "metadata": {},
   "source": [
    "# 8. Build Deep Learning using the Functional API"
   ]
  },
  {
   "cell_type": "code",
   "execution_count": 10,
   "id": "2587e5e1-d810-4793-8189-751e804e43b7",
   "metadata": {
    "tags": []
   },
   "outputs": [],
   "source": [
    "from tensorflow.keras.models import Model\n",
    "from tensorflow.keras.layers import Input, Conv2D, Dense, GlobalMaxPooling2D\n",
    "from tensorflow.keras.applications import VGG16"
   ]
  },
  {
   "cell_type": "code",
   "execution_count": 11,
   "id": "c862c3de-e5db-4bac-8259-a1843e94bfe1",
   "metadata": {
    "tags": []
   },
   "outputs": [],
   "source": [
    "vgg = VGG16(include_top=False)"
   ]
  },
  {
   "cell_type": "code",
   "execution_count": 12,
   "id": "e6af0de5-a357-41d2-8464-da38b9eb80c1",
   "metadata": {
    "tags": []
   },
   "outputs": [
    {
     "name": "stdout",
     "output_type": "stream",
     "text": [
      "Model: \"vgg16\"\n",
      "_________________________________________________________________\n",
      " Layer (type)                Output Shape              Param #   \n",
      "=================================================================\n",
      " input_1 (InputLayer)        [(None, None, None, 3)]   0         \n",
      "                                                                 \n",
      " block1_conv1 (Conv2D)       (None, None, None, 64)    1792      \n",
      "                                                                 \n",
      " block1_conv2 (Conv2D)       (None, None, None, 64)    36928     \n",
      "                                                                 \n",
      " block1_pool (MaxPooling2D)  (None, None, None, 64)    0         \n",
      "                                                                 \n",
      " block2_conv1 (Conv2D)       (None, None, None, 128)   73856     \n",
      "                                                                 \n",
      " block2_conv2 (Conv2D)       (None, None, None, 128)   147584    \n",
      "                                                                 \n",
      " block2_pool (MaxPooling2D)  (None, None, None, 128)   0         \n",
      "                                                                 \n",
      " block3_conv1 (Conv2D)       (None, None, None, 256)   295168    \n",
      "                                                                 \n",
      " block3_conv2 (Conv2D)       (None, None, None, 256)   590080    \n",
      "                                                                 \n",
      " block3_conv3 (Conv2D)       (None, None, None, 256)   590080    \n",
      "                                                                 \n",
      " block3_pool (MaxPooling2D)  (None, None, None, 256)   0         \n",
      "                                                                 \n",
      " block4_conv1 (Conv2D)       (None, None, None, 512)   1180160   \n",
      "                                                                 \n",
      " block4_conv2 (Conv2D)       (None, None, None, 512)   2359808   \n",
      "                                                                 \n",
      " block4_conv3 (Conv2D)       (None, None, None, 512)   2359808   \n",
      "                                                                 \n",
      " block4_pool (MaxPooling2D)  (None, None, None, 512)   0         \n",
      "                                                                 \n",
      " block5_conv1 (Conv2D)       (None, None, None, 512)   2359808   \n",
      "                                                                 \n",
      " block5_conv2 (Conv2D)       (None, None, None, 512)   2359808   \n",
      "                                                                 \n",
      " block5_conv3 (Conv2D)       (None, None, None, 512)   2359808   \n",
      "                                                                 \n",
      " block5_pool (MaxPooling2D)  (None, None, None, 512)   0         \n",
      "                                                                 \n",
      "=================================================================\n",
      "Total params: 14,714,688\n",
      "Trainable params: 14,714,688\n",
      "Non-trainable params: 0\n",
      "_________________________________________________________________\n"
     ]
    }
   ],
   "source": [
    "vgg.summary()\n"
   ]
  },
  {
   "cell_type": "code",
   "execution_count": 9,
   "id": "4c04e720-40c7-498b-b6d7-81ef00bbc84c",
   "metadata": {
    "tags": []
   },
   "outputs": [],
   "source": [
    "#  Build instance of Network8.3 Build instance of Network\n",
    "\n",
    "def build_model(): \n",
    "    input_layer = Input(shape=(120,120,3))\n",
    "    \n",
    "    vgg = VGG16(include_top=False)(input_layer)\n",
    "\n",
    "    # Classification Model  \n",
    "    f1 = GlobalMaxPooling2D()(vgg)\n",
    "    class1 = Dense(2048, activation='relu')(f1)\n",
    "    class2 = Dense(1, activation='sigmoid')(class1)\n",
    "    \n",
    "    # Bounding box model\n",
    "    f2 = GlobalMaxPooling2D()(vgg)\n",
    "    regress1 = Dense(2048, activation='relu')(f2)\n",
    "    regress2 = Dense(4, activation='sigmoid')(regress1)\n",
    "    facetracker = Model(inputs=input_layer, outputs=[class2, regress2])\n",
    "    return facetracker"
   ]
  },
  {
   "cell_type": "code",
   "execution_count": 32,
   "id": "a6ec2409-e28f-41ca-95d0-f417d943a020",
   "metadata": {
    "tags": []
   },
   "outputs": [],
   "source": [
    "facetracker = build_model()"
   ]
  },
  {
   "cell_type": "code",
   "execution_count": 33,
   "id": "6716d589-b212-47b5-b7be-f3088e056ac5",
   "metadata": {
    "tags": []
   },
   "outputs": [
    {
     "name": "stdout",
     "output_type": "stream",
     "text": [
      "Model: \"model\"\n",
      "__________________________________________________________________________________________________\n",
      " Layer (type)                   Output Shape         Param #     Connected to                     \n",
      "==================================================================================================\n",
      " input_2 (InputLayer)           [(None, 120, 120, 3  0           []                               \n",
      "                                )]                                                                \n",
      "                                                                                                  \n",
      " vgg16 (Functional)             (None, None, None,   14714688    ['input_2[0][0]']                \n",
      "                                512)                                                              \n",
      "                                                                                                  \n",
      " global_max_pooling2d (GlobalMa  (None, 512)         0           ['vgg16[0][0]']                  \n",
      " xPooling2D)                                                                                      \n",
      "                                                                                                  \n",
      " global_max_pooling2d_1 (Global  (None, 512)         0           ['vgg16[0][0]']                  \n",
      " MaxPooling2D)                                                                                    \n",
      "                                                                                                  \n",
      " dense (Dense)                  (None, 2048)         1050624     ['global_max_pooling2d[0][0]']   \n",
      "                                                                                                  \n",
      " dense_2 (Dense)                (None, 2048)         1050624     ['global_max_pooling2d_1[0][0]'] \n",
      "                                                                                                  \n",
      " dense_1 (Dense)                (None, 1)            2049        ['dense[0][0]']                  \n",
      "                                                                                                  \n",
      " dense_3 (Dense)                (None, 4)            8196        ['dense_2[0][0]']                \n",
      "                                                                                                  \n",
      "==================================================================================================\n",
      "Total params: 16,826,181\n",
      "Trainable params: 16,826,181\n",
      "Non-trainable params: 0\n",
      "__________________________________________________________________________________________________\n"
     ]
    }
   ],
   "source": [
    "facetracker.summary()\n"
   ]
  },
  {
   "cell_type": "code",
   "execution_count": 34,
   "id": "c0dc1416-37c0-42a5-ab94-29bff1566468",
   "metadata": {
    "tags": []
   },
   "outputs": [],
   "source": [
    "X, y = train.as_numpy_iterator().next()\n"
   ]
  },
  {
   "cell_type": "code",
   "execution_count": 35,
   "id": "f10596fb-7ce7-4ad0-874e-545a8ff7fee2",
   "metadata": {
    "tags": []
   },
   "outputs": [
    {
     "data": {
      "text/plain": [
       "(8, 120, 120, 3)"
      ]
     },
     "execution_count": 35,
     "metadata": {},
     "output_type": "execute_result"
    }
   ],
   "source": [
    "X.shape"
   ]
  },
  {
   "cell_type": "code",
   "execution_count": 36,
   "id": "c7f165f0-7767-41d7-8cbc-096606f43f77",
   "metadata": {
    "tags": []
   },
   "outputs": [
    {
     "name": "stdout",
     "output_type": "stream",
     "text": [
      "1/1 [==============================] - 17s 17s/step\n"
     ]
    }
   ],
   "source": [
    "classes, coords = facetracker.predict(X)"
   ]
  },
  {
   "cell_type": "code",
   "execution_count": 77,
   "id": "7368b097-54ab-46b7-8459-0227c93170dd",
   "metadata": {
    "tags": []
   },
   "outputs": [
    {
     "data": {
      "text/plain": [
       "(array([[0.4560641 ],\n",
       "        [0.37597677],\n",
       "        [0.4017129 ],\n",
       "        [0.45918056],\n",
       "        [0.5004165 ],\n",
       "        [0.400116  ],\n",
       "        [0.4852648 ],\n",
       "        [0.40306374]], dtype=float32),\n",
       " array([[0.5032576 , 0.7608045 , 0.58193827, 0.59222084],\n",
       "        [0.4941104 , 0.7221111 , 0.5762483 , 0.6014191 ],\n",
       "        [0.55755156, 0.83101493, 0.5525288 , 0.590166  ],\n",
       "        [0.5091583 , 0.7462693 , 0.61054486, 0.50884086],\n",
       "        [0.5754683 , 0.782101  , 0.5023267 , 0.49650928],\n",
       "        [0.48127925, 0.6946944 , 0.48473877, 0.50310904],\n",
       "        [0.53417987, 0.77402174, 0.51651824, 0.5841782 ],\n",
       "        [0.5227078 , 0.7194785 , 0.53455836, 0.6235903 ]], dtype=float32))"
      ]
     },
     "execution_count": 77,
     "metadata": {},
     "output_type": "execute_result"
    }
   ],
   "source": [
    "classes, coords"
   ]
  },
  {
   "cell_type": "code",
   "execution_count": 43,
   "id": "0cc03fb9-45e0-439b-a073-d1f77b259e73",
   "metadata": {
    "tags": []
   },
   "outputs": [
    {
     "data": {
      "text/plain": [
       "<PrefetchDataset element_spec=(TensorSpec(shape=(None, 120, 120, None), dtype=tf.float32, name=None), (TensorSpec(shape=<unknown>, dtype=tf.uint8, name=None), TensorSpec(shape=<unknown>, dtype=tf.float16, name=None)))>"
      ]
     },
     "execution_count": 43,
     "metadata": {},
     "output_type": "execute_result"
    }
   ],
   "source": [
    "train"
   ]
  },
  {
   "cell_type": "code",
   "execution_count": 37,
   "id": "d255c116-c424-4573-ae7a-cd09f30315af",
   "metadata": {
    "tags": []
   },
   "outputs": [],
   "source": [
    "# Calculate the number of batches per epoch based on the length (size) of the training dataset\n",
    "batches_per_epoch = len(train)\n",
    "\n",
    "# Calculate the learning rate decay factor\n",
    "# The formula (1./0.75 -1) is a specific choice and 'batches_per_epoch' scales the decay by the number of batches\n",
    "lr_decay = (1./0.75 -1) / batches_per_epoch  # Here, 0.75 could be a target learning rate fraction for decay\n",
    "\n",
    "# Initialize the Adam optimizer with an initial learning rate of 0.0001 and decay factor calculated above\n",
    "opt = tf.keras.optimizers.Adam(learning_rate=0.0001, decay=lr_decay)\n"
   ]
  },
  {
   "cell_type": "code",
   "execution_count": 38,
   "id": "cecaf57d-9e86-4b3d-a091-81ce6b217008",
   "metadata": {
    "tags": []
   },
   "outputs": [
    {
     "data": {
      "text/plain": [
       "0.0007407407407407406"
      ]
     },
     "execution_count": 38,
     "metadata": {},
     "output_type": "execute_result"
    }
   ],
   "source": [
    "lr_decay"
   ]
  },
  {
   "cell_type": "code",
   "execution_count": 39,
   "id": "7338c13d-1af6-443f-96c0-b933dcd369bd",
   "metadata": {
    "tags": []
   },
   "outputs": [],
   "source": [
    "# Create Localization Loss and Classification Loss\n",
    "\n",
    "def localization_loss(y_true, yhat):  \n",
    "    # Calculate the squared differences between the true and predicted x and y coordinates\n",
    "    # y_true[:,:2] selects the first two columns which are x and y coordinates for the ground truth\n",
    "    # yhat[:,:2] does the same for the predicted values\n",
    "    delta_coord = tf.reduce_sum(tf.square(y_true[:,:2] - yhat[:,:2]))\n",
    "\n",
    "    # Compute the height and width for the ground truth bounding boxes\n",
    "    # y_true[:,3] - y_true[:,1] calculates the height difference (y_max - y_min)\n",
    "    # y_true[:,2] - y_true[:,0] calculates the width difference (x_max - x_min)\n",
    "    h_true = y_true[:,3] - y_true[:,1] \n",
    "    w_true = y_true[:,2] - y_true[:,0] \n",
    "\n",
    "    # Compute the height and width for the predicted bounding boxes\n",
    "    # Similar to ground truth but using predicted values\n",
    "    h_pred = yhat[:,3] - yhat[:,1] \n",
    "    w_pred = yhat[:,2] - yhat[:,0] \n",
    "\n",
    "    # Calculate the squared differences between the true and predicted heights and widths\n",
    "    delta_size = tf.reduce_sum(tf.square(w_true - w_pred) + tf.square(h_true - h_pred))\n",
    "\n",
    "    # The final loss is the sum of coordinate and size losses\n",
    "    return delta_coord + delta_size\n",
    "\n",
    "\n",
    "classloss = tf.keras.losses.BinaryCrossentropy()\n",
    "regressloss = localization_loss"
   ]
  },
  {
   "cell_type": "code",
   "execution_count": 84,
   "id": "71da9ae3-221e-4896-a1aa-b55f47f94632",
   "metadata": {
    "tags": []
   },
   "outputs": [
    {
     "data": {
      "text/plain": [
       "array([[0.     , 0.1978 , 0.2847 , 0.543  ],\n",
       "       [0.637  , 0.2556 , 0.98   , 0.6587 ],\n",
       "       [0.3704 , 0.3557 , 0.662  , 0.694  ],\n",
       "       [0.     , 0.     , 0.     , 0.     ],\n",
       "       [0.2693 , 0.2125 , 0.5303 , 0.534  ],\n",
       "       [0.07697, 0.91   , 0.2932 , 1.     ],\n",
       "       [0.2947 , 0.3027 , 0.543  , 0.623  ],\n",
       "       [0.     , 0.612  , 0.08026, 0.9995 ]], dtype=float16)"
      ]
     },
     "execution_count": 84,
     "metadata": {},
     "output_type": "execute_result"
    }
   ],
   "source": [
    "y[1]"
   ]
  },
  {
   "cell_type": "code",
   "execution_count": 82,
   "id": "9ec5fed0-a8fd-48c6-a9a4-45e81acc9ea8",
   "metadata": {
    "tags": []
   },
   "outputs": [
    {
     "data": {
      "text/plain": [
       "<tf.Tensor: shape=(), dtype=float32, numpy=5.391046>"
      ]
     },
     "execution_count": 82,
     "metadata": {},
     "output_type": "execute_result"
    }
   ],
   "source": [
    "localization_loss(y[1], coords)"
   ]
  },
  {
   "cell_type": "code",
   "execution_count": 83,
   "id": "3326472f-6b59-40fd-8a0d-322796234468",
   "metadata": {
    "tags": []
   },
   "outputs": [
    {
     "data": {
      "text/plain": [
       "<tf.Tensor: shape=(), dtype=float32, numpy=0.816259>"
      ]
     },
     "execution_count": 83,
     "metadata": {},
     "output_type": "execute_result"
    }
   ],
   "source": [
    "classloss(y[0], classes)"
   ]
  },
  {
   "cell_type": "markdown",
   "id": "b5e7cb16-fea6-4592-bce3-e66e7b5e26e3",
   "metadata": {},
   "source": [
    " ## Create Custom Model Class"
   ]
  },
  {
   "cell_type": "code",
   "execution_count": 40,
   "id": "e7e7b1e2-8d64-4b45-9ea4-7387a09d85e0",
   "metadata": {
    "tags": []
   },
   "outputs": [],
   "source": [
    "# Import the Model class from TensorFlow to extend it\n",
    "from tensorflow.keras.models import Model\n",
    "import tensorflow as tf\n",
    "\n",
    "# Define the custom model FaceTracker by extending the Model class\n",
    "class FaceTracker(Model): \n",
    "\n",
    "    # Initialization\n",
    "    def __init__(self, faceDetection,  **kwargs): \n",
    "        # Call the parent constructor\n",
    "        super().__init__(**kwargs)\n",
    "        # Store the face detection model\n",
    "        self.model = faceDetection\n",
    "\n",
    "    # Compile the model with required optimizer and loss functions\n",
    "    def compile(self, opt, classloss, localizationloss, **kwargs):\n",
    "        # Call parent compile, allows extending the functionality later if needed\n",
    "        super().compile(**kwargs)\n",
    "        # Store classification loss function\n",
    "        self.closs = classloss\n",
    "        # Store localization loss function\n",
    "        self.lloss = localizationloss\n",
    "        # Store the optimizer\n",
    "        self.opt = opt\n",
    "    \n",
    "    # Define one training step\n",
    "    def train_step(self, batch, **kwargs): \n",
    "        \n",
    "        # Unpack the batch data\n",
    "        X, y = batch\n",
    "\n",
    "        # Record operations for which gradients have to be calculated\n",
    "        with tf.GradientTape() as tape: \n",
    "            # Get predictions for class and bounding box coordinates\n",
    "            classes, coords = self.model(X, training=True)\n",
    "            \n",
    "            # Compute classification loss for the batch\n",
    "            batch_classloss = self.closs(y[0], classes)\n",
    "            # Compute localization loss for the batch\n",
    "            batch_localizationloss = self.lloss(tf.cast(y[1], tf.float32), coords)\n",
    "            \n",
    "            # Calculate the total loss\n",
    "            total_loss = batch_localizationloss + 0.5 * batch_classloss\n",
    "            \n",
    "            # Compute gradients for trainable variables with respect to the total loss\n",
    "            grad = tape.gradient(total_loss, self.model.trainable_variables)\n",
    "        \n",
    "        # Update the weights of the model\n",
    "        self.opt.apply_gradients(zip(grad, self.model.trainable_variables))\n",
    "        \n",
    "        # Return the computed losses for this batch\n",
    "        return {\"total_loss\": total_loss, \"class_loss\": batch_classloss, \"regress_loss\": batch_localizationloss}\n",
    "    \n",
    "    # Define the testing step\n",
    "    def test_step(self, batch, **kwargs): \n",
    "        # Unpack the batch\n",
    "        X, y = batch\n",
    "        \n",
    "        # Get the model predictions (not updating the model)\n",
    "        classes, coords = self.model(X, training=False)\n",
    "        \n",
    "        # Compute classification and localization losses\n",
    "        batch_classloss = self.closs(y[0], classes)\n",
    "        batch_localizationloss = self.lloss(tf.cast(y[1], tf.float32), coords)\n",
    "        \n",
    "        # Calculate the total loss\n",
    "        total_loss = batch_localizationloss + 0.5 * batch_classloss\n",
    "        \n",
    "        # Return computed losses\n",
    "        return {\"total_loss\": total_loss, \"class_loss\": batch_classloss, \"regress_loss\": batch_localizationloss}\n",
    "        \n",
    "    # Define the call method\n",
    "    def call(self, X, **kwargs): \n",
    "        # Forward pass through the internal face detection model\n",
    "        return self.model(X, **kwargs)\n"
   ]
  },
  {
   "cell_type": "code",
   "execution_count": 41,
   "id": "834a312d-51af-4156-b87f-2cb5cfbeb257",
   "metadata": {
    "tags": []
   },
   "outputs": [],
   "source": [
    "model = FaceTracker(facetracker)"
   ]
  },
  {
   "cell_type": "code",
   "execution_count": 11,
   "id": "7f20a747-0a6e-475d-8752-9d50b72ba09e",
   "metadata": {
    "tags": []
   },
   "outputs": [
    {
     "ename": "NameError",
     "evalue": "name 'model' is not defined",
     "output_type": "error",
     "traceback": [
      "\u001b[1;31m---------------------------------------------------------------------------\u001b[0m",
      "\u001b[1;31mNameError\u001b[0m                                 Traceback (most recent call last)",
      "Cell \u001b[1;32mIn[11], line 1\u001b[0m\n\u001b[1;32m----> 1\u001b[0m \u001b[43mmodel\u001b[49m\u001b[38;5;241m.\u001b[39mcompile(opt, classloss, regressloss)\n",
      "\u001b[1;31mNameError\u001b[0m: name 'model' is not defined"
     ]
    }
   ],
   "source": [
    "model.compile(opt, classloss, regressloss)\n"
   ]
  },
  {
   "cell_type": "code",
   "execution_count": 63,
   "id": "63b7c3a9-4c95-4158-85de-18896697b436",
   "metadata": {
    "tags": []
   },
   "outputs": [],
   "source": [
    "logdir='logs'\n",
    "tensorboard_callback = tf.keras.callbacks.TensorBoard(log_dir=logdir)\n",
    "early_stopping_callback = tf.keras.callbacks.EarlyStopping(monitor='val_loss', patience=3, restore_best_weights=True)\n"
   ]
  },
  {
   "cell_type": "code",
   "execution_count": null,
   "id": "de3896ea-4c8c-4b7a-9686-853c2ac65ea8",
   "metadata": {
    "tags": []
   },
   "outputs": [],
   "source": [
    "hist = model.fit(train, epochs=20, validation_data=val, callbacks=[tensorboard_callback])"
   ]
  },
  {
   "cell_type": "code",
   "execution_count": 65,
   "id": "5630c937-5717-4129-abf0-ba7730e5e43b",
   "metadata": {
    "tags": []
   },
   "outputs": [
    {
     "data": {
      "image/png": "[encoded data removed]",
      "text/plain": [
       "<Figure size 2000x500 with 3 Axes>"
      ]
     },
     "metadata": {},
     "output_type": "display_data"
    }
   ],
   "source": [
    "fig, ax = plt.subplots(ncols=3, figsize=(20,5))\n",
    "\n",
    "ax[0].plot(hist.history['total_loss'], color='teal', label='loss')\n",
    "ax[0].plot(hist.history['val_total_loss'], color='orange', label='val loss')\n",
    "ax[0].title.set_text('Loss')\n",
    "ax[0].legend()\n",
    "\n",
    "ax[1].plot(hist.history['class_loss'], color='teal', label='class loss')\n",
    "ax[1].plot(hist.history['val_class_loss'], color='orange', label='val class loss')\n",
    "ax[1].title.set_text('Classification Loss')\n",
    "ax[1].legend()\n",
    "\n",
    "ax[2].plot(hist.history['regress_loss'], color='teal', label='regress loss')\n",
    "ax[2].plot(hist.history['val_regress_loss'], color='orange', label='val regress loss')\n",
    "ax[2].title.set_text('Regression Loss')\n",
    "ax[2].legend()\n",
    "\n",
    "plt.show()"
   ]
  },
  {
   "cell_type": "code",
   "execution_count": null,
   "id": "f051499d-2c7a-4734-ab1d-b2322743d114",
   "metadata": {
    "tags": []
   },
   "outputs": [],
   "source": [
    "# 11.1 Make Predictions on Test Set\n",
    "\n",
    "\n",
    "test_data = test.as_numpy_iterator()\n",
    "test_sample = test_data.next()\n",
    "yhat = facetracker.predict(test_sample[0])\n",
    "fig, ax = plt.subplots(ncols=4, figsize=(20,20))\n",
    "for idx in range(4): \n",
    "    sample_image = test_sample[0][idx]\n",
    "    sample_coords = yhat[1][idx]\n",
    "    \n",
    "    if yhat[0][idx] > 0.9:\n",
    "        cv2.rectangle(sample_image, \n",
    "                      tuple(np.multiply(sample_coords[:2], [120,120]).astype(int)),\n",
    "                      tuple(np.multiply(sample_coords[2:], [120,120]).astype(int)), \n",
    "                            (255,0,0), 2)\n",
    "    \n",
    "    ax[idx].imshow(sample_image)"
   ]
  },
  {
   "cell_type": "code",
   "execution_count": 10,
   "id": "2c8a6c7d-f832-4316-9939-2f1a9825afb4",
   "metadata": {
    "tags": []
   },
   "outputs": [
    {
     "name": "stdout",
     "output_type": "stream",
     "text": [
      "WARNING:tensorflow:No training configuration found in the save file, so the model was *not* compiled. Compile it manually.\n"
     ]
    },
    {
     "name": "stderr",
     "output_type": "stream",
     "text": [
      "WARNING:tensorflow:No training configuration found in the save file, so the model was *not* compiled. Compile it manually.\n"
     ]
    }
   ],
   "source": [
    "#save the model\n",
    "from tensorflow.keras.models import load_model\n",
    "# facetracker.save('facetracker.h5')\n",
    "facetracker = load_model('facetracker.h5')"
   ]
  },
  {
   "cell_type": "code",
   "execution_count": 8,
   "id": "31147497-a7fd-40f6-bd8f-838ded5be173",
   "metadata": {
    "tags": []
   },
   "outputs": [
    {
     "name": "stdout",
     "output_type": "stream",
     "text": [
      "WARNING:tensorflow:Compiled the loaded model, but the compiled metrics have yet to be built. `model.compile_metrics` will be empty until you train or evaluate the model.\n"
     ]
    },
    {
     "name": "stderr",
     "output_type": "stream",
     "text": [
      "WARNING:tensorflow:Compiled the loaded model, but the compiled metrics have yet to be built. `model.compile_metrics` will be empty until you train or evaluate the model.\n",
      "WARNING:absl:Found untraced functions such as _jit_compiled_convolution_op, _jit_compiled_convolution_op, _jit_compiled_convolution_op, _jit_compiled_convolution_op, _jit_compiled_convolution_op while saving (showing 5 of 13). These functions will not be directly callable after loading.\n"
     ]
    },
    {
     "name": "stdout",
     "output_type": "stream",
     "text": [
      "INFO:tensorflow:Assets written to: facemodel/1/assets\n"
     ]
    },
    {
     "name": "stderr",
     "output_type": "stream",
     "text": [
      "INFO:tensorflow:Assets written to: facemodel/1/assets\n"
     ]
    }
   ],
   "source": [
    "#Save  Model in SavedModel Format\n",
    "facetracker.save(\"facemodel/1/\")"
   ]
  },
  {
   "cell_type": "code",
   "execution_count": 13,
   "id": "b05e209e-3738-4686-81ea-cb4578c4d90e",
   "metadata": {
    "tags": []
   },
   "outputs": [
    {
     "name": "stderr",
     "output_type": "stream",
     "text": [
      "a .\n",
      "a ./1\n",
      "a ./1/assets\n",
      "a ./1/keras_metadata.pb\n",
      "a ./1/saved_model.pb\n",
      "a ./1/variables\n",
      "a ./1/variables/variables.data-00000-of-00001\n",
      "a ./1/variables/variables.index\n"
     ]
    }
   ],
   "source": [
    "#Create a .tar.gz Archive\n",
    "!tar -czvf model.tar.gz -C facemodel ."
   ]
  },
  {
   "cell_type": "code",
   "execution_count": null,
   "id": "e27394dc-bcd1-4bc8-88c4-c746ef3f8762",
   "metadata": {
    "tags": []
   },
   "outputs": [],
   "source": [
    "import tensorflow as tf\n",
    "\n",
    "# Load the model\n",
    "facetracker = tf.keras.models.load_model('model.tar.gz')"
   ]
  },
  {
   "cell_type": "code",
   "execution_count": null,
   "id": "0c0c6ead-c2cf-4029-890a-7478d7d19eac",
   "metadata": {
    "tags": []
   },
   "outputs": [],
   "source": [
    "cap = cv2.VideoCapture(0)\n",
    "while cap.isOpened():\n",
    "    _ , frame = cap.read()\n",
    "    frame = frame[50:500, 50:500,:]\n",
    "    \n",
    "    rgb = cv2.cvtColor(frame, cv2.COLOR_BGR2RGB)\n",
    "    resized = tf.image.resize(rgb, (120,120))\n",
    "    \n",
    "    yhat = facetracker.predict(np.expand_dims(resized/255,0))\n",
    "    sample_coords = yhat[1][0]\n",
    "    \n",
    "    if yhat[0] > 0.5: \n",
    "        # Controls the main rectangle\n",
    "        cv2.rectangle(frame, \n",
    "                      tuple(np.multiply(sample_coords[:2], [450,450]).astype(int)),\n",
    "                      tuple(np.multiply(sample_coords[2:], [450,450]).astype(int)), \n",
    "                            (255,0,0), 2)\n",
    "        # Controls the label rectangle\n",
    "        cv2.rectangle(frame, \n",
    "                      tuple(np.add(np.multiply(sample_coords[:2], [450,450]).astype(int), \n",
    "                                    [0,-30])),\n",
    "                      tuple(np.add(np.multiply(sample_coords[:2], [450,450]).astype(int),\n",
    "                                    [80,0])), \n",
    "                            (255,0,0), -1)\n",
    "        \n",
    "        # Controls the text rendered\n",
    "        cv2.putText(frame, 'face', tuple(np.add(np.multiply(sample_coords[:2], [450,450]).astype(int),\n",
    "                                               [0,-5])),\n",
    "                    cv2.FONT_HERSHEY_SIMPLEX, 1, (255,255,255), 2, cv2.LINE_AA)\n",
    "    \n",
    "    cv2.imshow('EyeTrack', frame)\n",
    "    \n",
    "    if cv2.waitKey(1) & 0xFF == ord('q'):\n",
    "        break\n",
    "cap.release()\n",
    "cv2.destroyAllWindows()"
   ]
  }
 ],
 "metadata": {
  "kernelspec": {
   "display_name": "Python 3 (ipykernel)",
   "language": "python",
   "name": "python3"
  },
  "language_info": {
   "codemirror_mode": {
    "name": "ipython",
    "version": 3
   },
   "file_extension": ".py",
   "mimetype": "text/x-python",
   "name": "python",
   "nbconvert_exporter": "python",
   "pygments_lexer": "ipython3",
   "version": "3.10.12"
  }
 },
 "nbformat": 4,
 "nbformat_minor": 5
}
